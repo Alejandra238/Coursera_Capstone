{
  "nbformat": 4,
  "nbformat_minor": 0,
  "metadata": {
    "colab": {
      "provenance": [],
      "authorship_tag": "ABX9TyPvmkb52w+1Cd8mVFkfJjbq",
      "include_colab_link": true
    },
    "kernelspec": {
      "name": "python3",
      "display_name": "Python 3"
    },
    "language_info": {
      "name": "python"
    }
  },
  "cells": [
    {
      "cell_type": "markdown",
      "metadata": {
        "id": "view-in-github",
        "colab_type": "text"
      },
      "source": [
        "<a href=\"https://colab.research.google.com/github/Alejandra238/Coursera_Capstone/blob/main/Agrupaci%C3%B3n_y_Segmentaci%C3%B3n_de_Vecindarios_en_la_Ciudad_de_Toronto%2C_Canad%C3%A1.ipynb\" target=\"_parent\"><img src=\"https://colab.research.google.com/assets/colab-badge.svg\" alt=\"Open In Colab\"/></a>"
      ]
    },
    {
      "cell_type": "code",
      "execution_count": 2,
      "metadata": {
        "colab": {
          "base_uri": "https://localhost:8080/"
        },
        "id": "Kh3IbonaFHNr",
        "outputId": "8f4acdd9-9e93-4af6-cd1c-fcba39c7e3c7"
      },
      "outputs": [
        {
          "output_type": "stream",
          "name": "stdout",
          "text": [
            "Data downloaded!\n"
          ]
        }
      ],
      "source": [
        "!wget -q -O 'toronto_data.json' https://en.wikipedia.org/wiki/List_of_postal_codes_of_Canada:_M\n",
        "print('Data downloaded!')"
      ]
    },
    {
      "cell_type": "code",
      "source": [
        "from bs4 import BeautifulSoup\n",
        "\n",
        "with open(\"index.html\") as fp:"
      ],
      "metadata": {
        "colab": {
          "base_uri": "https://localhost:8080/",
          "height": 131
        },
        "id": "3O8CS_hTHLSr",
        "outputId": "403f9608-569b-42c6-eda5-5cb1831d096a"
      },
      "execution_count": 4,
      "outputs": [
        {
          "output_type": "error",
          "ename": "SyntaxError",
          "evalue": "ignored",
          "traceback": [
            "\u001b[0;36m  File \u001b[0;32m\"<ipython-input-4-ae2466bf7b3f>\"\u001b[0;36m, line \u001b[0;32m3\u001b[0m\n\u001b[0;31m    with open(\"index.html\") as fp:\u001b[0m\n\u001b[0m                                  ^\u001b[0m\n\u001b[0;31mSyntaxError\u001b[0m\u001b[0;31m:\u001b[0m unexpected EOF while parsing\n"
          ]
        }
      ]
    },
    {
      "cell_type": "code",
      "source": [
        "import pandas as pd\n",
        "import matplotlib.pyplot as plt\n",
        "%matplotlib inline\n",
        "import seaborn as sns\n",
        "\n",
        "import pandas as dp\n",
        "\n",
        "df1 = dp.read_csv('DataPrueba (1).csv',';')\n",
        "\n",
        "df1.columns"
      ],
      "metadata": {
        "colab": {
          "base_uri": "https://localhost:8080/"
        },
        "id": "4-hZpHmwZuOJ",
        "outputId": "24ae783e-6e79-4c47-f81b-e1e255fa223b"
      },
      "execution_count": 2,
      "outputs": [
        {
          "output_type": "execute_result",
          "data": {
            "text/plain": [
              "Index(['ID', 'Tiempo de Atencion', 'Tipo Atencion', 'Tipo Atencion.1',\n",
              "       'Monto ', 'Tasa', 'Plazo ', 'Tipo_desembolso', 'NPS', 'Tipo_NPS'],\n",
              "      dtype='object')"
            ]
          },
          "metadata": {},
          "execution_count": 2
        }
      ]
    },
    {
      "cell_type": "code",
      "source": [
        "df1"
      ],
      "metadata": {
        "colab": {
          "base_uri": "https://localhost:8080/",
          "height": 424
        },
        "id": "e6t7nfcKZyUc",
        "outputId": "44b222b9-d58d-4bca-cfe9-68107da101a4"
      },
      "execution_count": 3,
      "outputs": [
        {
          "output_type": "execute_result",
          "data": {
            "text/plain": [
              "         ID  Tiempo de Atencion  Tipo Atencion Tipo Atencion.1  Monto   Tasa  \\\n",
              "0    251653                  19              1            Caja    4262    29   \n",
              "1    251610                  20              1            Caja    3320    30   \n",
              "2    251314                  18              1            Caja    4303    19   \n",
              "3    251313                  55              1            Caja    4398    19   \n",
              "4    251294                  20              2      Plataforma    4963    28   \n",
              "..      ...                 ...            ...             ...     ...   ...   \n",
              "120  246245                  20              1            Caja    3248    21   \n",
              "121  246248                  16              2      Plataforma    2036    22   \n",
              "122  246252                  42              2      Plataforma    2115    30   \n",
              "123  246256                  10              2      Plataforma    2218    28   \n",
              "124  246261                  10              2      Plataforma    2028    36   \n",
              "\n",
              "     Plazo  Tipo_desembolso  NPS   Tipo_NPS  \n",
              "0        36        efectivo    9   NPS_alto  \n",
              "1        46          Cuenta   10   NPS_alto  \n",
              "2        15        efectivo   10   NPS_alto  \n",
              "3        13        efectivo    5   NPS_bajo  \n",
              "4        31          Cuenta   10   NPS_alto  \n",
              "..      ...             ...  ...        ...  \n",
              "120      13        efectivo    5   NPS_bajo  \n",
              "121      27          Cuenta    8  NPS_Medio  \n",
              "122      28        efectivo    6  NPS_Medio  \n",
              "123      33          Cuenta   10   NPS_alto  \n",
              "124      16        efectivo   10   NPS_alto  \n",
              "\n",
              "[125 rows x 10 columns]"
            ],
            "text/html": [
              "\n",
              "  <div id=\"df-20976fc7-8a93-4a18-a90f-3419d8ecdb9b\">\n",
              "    <div class=\"colab-df-container\">\n",
              "      <div>\n",
              "<style scoped>\n",
              "    .dataframe tbody tr th:only-of-type {\n",
              "        vertical-align: middle;\n",
              "    }\n",
              "\n",
              "    .dataframe tbody tr th {\n",
              "        vertical-align: top;\n",
              "    }\n",
              "\n",
              "    .dataframe thead th {\n",
              "        text-align: right;\n",
              "    }\n",
              "</style>\n",
              "<table border=\"1\" class=\"dataframe\">\n",
              "  <thead>\n",
              "    <tr style=\"text-align: right;\">\n",
              "      <th></th>\n",
              "      <th>ID</th>\n",
              "      <th>Tiempo de Atencion</th>\n",
              "      <th>Tipo Atencion</th>\n",
              "      <th>Tipo Atencion.1</th>\n",
              "      <th>Monto</th>\n",
              "      <th>Tasa</th>\n",
              "      <th>Plazo</th>\n",
              "      <th>Tipo_desembolso</th>\n",
              "      <th>NPS</th>\n",
              "      <th>Tipo_NPS</th>\n",
              "    </tr>\n",
              "  </thead>\n",
              "  <tbody>\n",
              "    <tr>\n",
              "      <th>0</th>\n",
              "      <td>251653</td>\n",
              "      <td>19</td>\n",
              "      <td>1</td>\n",
              "      <td>Caja</td>\n",
              "      <td>4262</td>\n",
              "      <td>29</td>\n",
              "      <td>36</td>\n",
              "      <td>efectivo</td>\n",
              "      <td>9</td>\n",
              "      <td>NPS_alto</td>\n",
              "    </tr>\n",
              "    <tr>\n",
              "      <th>1</th>\n",
              "      <td>251610</td>\n",
              "      <td>20</td>\n",
              "      <td>1</td>\n",
              "      <td>Caja</td>\n",
              "      <td>3320</td>\n",
              "      <td>30</td>\n",
              "      <td>46</td>\n",
              "      <td>Cuenta</td>\n",
              "      <td>10</td>\n",
              "      <td>NPS_alto</td>\n",
              "    </tr>\n",
              "    <tr>\n",
              "      <th>2</th>\n",
              "      <td>251314</td>\n",
              "      <td>18</td>\n",
              "      <td>1</td>\n",
              "      <td>Caja</td>\n",
              "      <td>4303</td>\n",
              "      <td>19</td>\n",
              "      <td>15</td>\n",
              "      <td>efectivo</td>\n",
              "      <td>10</td>\n",
              "      <td>NPS_alto</td>\n",
              "    </tr>\n",
              "    <tr>\n",
              "      <th>3</th>\n",
              "      <td>251313</td>\n",
              "      <td>55</td>\n",
              "      <td>1</td>\n",
              "      <td>Caja</td>\n",
              "      <td>4398</td>\n",
              "      <td>19</td>\n",
              "      <td>13</td>\n",
              "      <td>efectivo</td>\n",
              "      <td>5</td>\n",
              "      <td>NPS_bajo</td>\n",
              "    </tr>\n",
              "    <tr>\n",
              "      <th>4</th>\n",
              "      <td>251294</td>\n",
              "      <td>20</td>\n",
              "      <td>2</td>\n",
              "      <td>Plataforma</td>\n",
              "      <td>4963</td>\n",
              "      <td>28</td>\n",
              "      <td>31</td>\n",
              "      <td>Cuenta</td>\n",
              "      <td>10</td>\n",
              "      <td>NPS_alto</td>\n",
              "    </tr>\n",
              "    <tr>\n",
              "      <th>...</th>\n",
              "      <td>...</td>\n",
              "      <td>...</td>\n",
              "      <td>...</td>\n",
              "      <td>...</td>\n",
              "      <td>...</td>\n",
              "      <td>...</td>\n",
              "      <td>...</td>\n",
              "      <td>...</td>\n",
              "      <td>...</td>\n",
              "      <td>...</td>\n",
              "    </tr>\n",
              "    <tr>\n",
              "      <th>120</th>\n",
              "      <td>246245</td>\n",
              "      <td>20</td>\n",
              "      <td>1</td>\n",
              "      <td>Caja</td>\n",
              "      <td>3248</td>\n",
              "      <td>21</td>\n",
              "      <td>13</td>\n",
              "      <td>efectivo</td>\n",
              "      <td>5</td>\n",
              "      <td>NPS_bajo</td>\n",
              "    </tr>\n",
              "    <tr>\n",
              "      <th>121</th>\n",
              "      <td>246248</td>\n",
              "      <td>16</td>\n",
              "      <td>2</td>\n",
              "      <td>Plataforma</td>\n",
              "      <td>2036</td>\n",
              "      <td>22</td>\n",
              "      <td>27</td>\n",
              "      <td>Cuenta</td>\n",
              "      <td>8</td>\n",
              "      <td>NPS_Medio</td>\n",
              "    </tr>\n",
              "    <tr>\n",
              "      <th>122</th>\n",
              "      <td>246252</td>\n",
              "      <td>42</td>\n",
              "      <td>2</td>\n",
              "      <td>Plataforma</td>\n",
              "      <td>2115</td>\n",
              "      <td>30</td>\n",
              "      <td>28</td>\n",
              "      <td>efectivo</td>\n",
              "      <td>6</td>\n",
              "      <td>NPS_Medio</td>\n",
              "    </tr>\n",
              "    <tr>\n",
              "      <th>123</th>\n",
              "      <td>246256</td>\n",
              "      <td>10</td>\n",
              "      <td>2</td>\n",
              "      <td>Plataforma</td>\n",
              "      <td>2218</td>\n",
              "      <td>28</td>\n",
              "      <td>33</td>\n",
              "      <td>Cuenta</td>\n",
              "      <td>10</td>\n",
              "      <td>NPS_alto</td>\n",
              "    </tr>\n",
              "    <tr>\n",
              "      <th>124</th>\n",
              "      <td>246261</td>\n",
              "      <td>10</td>\n",
              "      <td>2</td>\n",
              "      <td>Plataforma</td>\n",
              "      <td>2028</td>\n",
              "      <td>36</td>\n",
              "      <td>16</td>\n",
              "      <td>efectivo</td>\n",
              "      <td>10</td>\n",
              "      <td>NPS_alto</td>\n",
              "    </tr>\n",
              "  </tbody>\n",
              "</table>\n",
              "<p>125 rows × 10 columns</p>\n",
              "</div>\n",
              "      <button class=\"colab-df-convert\" onclick=\"convertToInteractive('df-20976fc7-8a93-4a18-a90f-3419d8ecdb9b')\"\n",
              "              title=\"Convert this dataframe to an interactive table.\"\n",
              "              style=\"display:none;\">\n",
              "        \n",
              "  <svg xmlns=\"http://www.w3.org/2000/svg\" height=\"24px\"viewBox=\"0 0 24 24\"\n",
              "       width=\"24px\">\n",
              "    <path d=\"M0 0h24v24H0V0z\" fill=\"none\"/>\n",
              "    <path d=\"M18.56 5.44l.94 2.06.94-2.06 2.06-.94-2.06-.94-.94-2.06-.94 2.06-2.06.94zm-11 1L8.5 8.5l.94-2.06 2.06-.94-2.06-.94L8.5 2.5l-.94 2.06-2.06.94zm10 10l.94 2.06.94-2.06 2.06-.94-2.06-.94-.94-2.06-.94 2.06-2.06.94z\"/><path d=\"M17.41 7.96l-1.37-1.37c-.4-.4-.92-.59-1.43-.59-.52 0-1.04.2-1.43.59L10.3 9.45l-7.72 7.72c-.78.78-.78 2.05 0 2.83L4 21.41c.39.39.9.59 1.41.59.51 0 1.02-.2 1.41-.59l7.78-7.78 2.81-2.81c.8-.78.8-2.07 0-2.86zM5.41 20L4 18.59l7.72-7.72 1.47 1.35L5.41 20z\"/>\n",
              "  </svg>\n",
              "      </button>\n",
              "      \n",
              "  <style>\n",
              "    .colab-df-container {\n",
              "      display:flex;\n",
              "      flex-wrap:wrap;\n",
              "      gap: 12px;\n",
              "    }\n",
              "\n",
              "    .colab-df-convert {\n",
              "      background-color: #E8F0FE;\n",
              "      border: none;\n",
              "      border-radius: 50%;\n",
              "      cursor: pointer;\n",
              "      display: none;\n",
              "      fill: #1967D2;\n",
              "      height: 32px;\n",
              "      padding: 0 0 0 0;\n",
              "      width: 32px;\n",
              "    }\n",
              "\n",
              "    .colab-df-convert:hover {\n",
              "      background-color: #E2EBFA;\n",
              "      box-shadow: 0px 1px 2px rgba(60, 64, 67, 0.3), 0px 1px 3px 1px rgba(60, 64, 67, 0.15);\n",
              "      fill: #174EA6;\n",
              "    }\n",
              "\n",
              "    [theme=dark] .colab-df-convert {\n",
              "      background-color: #3B4455;\n",
              "      fill: #D2E3FC;\n",
              "    }\n",
              "\n",
              "    [theme=dark] .colab-df-convert:hover {\n",
              "      background-color: #434B5C;\n",
              "      box-shadow: 0px 1px 3px 1px rgba(0, 0, 0, 0.15);\n",
              "      filter: drop-shadow(0px 1px 2px rgba(0, 0, 0, 0.3));\n",
              "      fill: #FFFFFF;\n",
              "    }\n",
              "  </style>\n",
              "\n",
              "      <script>\n",
              "        const buttonEl =\n",
              "          document.querySelector('#df-20976fc7-8a93-4a18-a90f-3419d8ecdb9b button.colab-df-convert');\n",
              "        buttonEl.style.display =\n",
              "          google.colab.kernel.accessAllowed ? 'block' : 'none';\n",
              "\n",
              "        async function convertToInteractive(key) {\n",
              "          const element = document.querySelector('#df-20976fc7-8a93-4a18-a90f-3419d8ecdb9b');\n",
              "          const dataTable =\n",
              "            await google.colab.kernel.invokeFunction('convertToInteractive',\n",
              "                                                     [key], {});\n",
              "          if (!dataTable) return;\n",
              "\n",
              "          const docLinkHtml = 'Like what you see? Visit the ' +\n",
              "            '<a target=\"_blank\" href=https://colab.research.google.com/notebooks/data_table.ipynb>data table notebook</a>'\n",
              "            + ' to learn more about interactive tables.';\n",
              "          element.innerHTML = '';\n",
              "          dataTable['output_type'] = 'display_data';\n",
              "          await google.colab.output.renderOutput(dataTable, element);\n",
              "          const docLink = document.createElement('div');\n",
              "          docLink.innerHTML = docLinkHtml;\n",
              "          element.appendChild(docLink);\n",
              "        }\n",
              "      </script>\n",
              "    </div>\n",
              "  </div>\n",
              "  "
            ]
          },
          "metadata": {},
          "execution_count": 3
        }
      ]
    },
    {
      "cell_type": "code",
      "source": [
        "df1.columns"
      ],
      "metadata": {
        "colab": {
          "base_uri": "https://localhost:8080/"
        },
        "id": "W5CIsD1SZ5HX",
        "outputId": "8446e162-74b0-4ffb-b079-375920d3f91f"
      },
      "execution_count": 4,
      "outputs": [
        {
          "output_type": "execute_result",
          "data": {
            "text/plain": [
              "Index(['ID', 'Tiempo de Atencion', 'Tipo Atencion', 'Tipo Atencion.1',\n",
              "       'Monto ', 'Tasa', 'Plazo ', 'Tipo_desembolso', 'NPS', 'Tipo_NPS'],\n",
              "      dtype='object')"
            ]
          },
          "metadata": {},
          "execution_count": 4
        }
      ]
    },
    {
      "cell_type": "code",
      "source": [
        "df1.columns = ['ID', 'TiempodeAtencion', 'TipoAtencion', 'CanalAtencion','Monto', 'Tasa', 'Plazo', 'TipoDesembolso', 'NPS', 'Calificacion']\n"
      ],
      "metadata": {
        "id": "Aw_dK_QPZ7UK"
      },
      "execution_count": 5,
      "outputs": []
    },
    {
      "cell_type": "code",
      "source": [
        "df1.columns"
      ],
      "metadata": {
        "id": "7jqSu99DZ80_",
        "outputId": "a727dedb-63cc-4663-a4fb-08082fcb6f79",
        "colab": {
          "base_uri": "https://localhost:8080/"
        }
      },
      "execution_count": 6,
      "outputs": [
        {
          "output_type": "execute_result",
          "data": {
            "text/plain": [
              "Index(['ID', 'TiempodeAtencion', 'TipoAtencion', 'CanalAtencion', 'Monto',\n",
              "       'Tasa', 'Plazo', 'TipoDesembolso', 'NPS', 'Calificacion'],\n",
              "      dtype='object')"
            ]
          },
          "metadata": {},
          "execution_count": 6
        }
      ]
    }
  ]
}